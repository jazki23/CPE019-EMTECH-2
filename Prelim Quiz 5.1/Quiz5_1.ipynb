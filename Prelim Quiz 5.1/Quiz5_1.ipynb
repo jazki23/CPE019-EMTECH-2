{
  "nbformat": 4,
  "nbformat_minor": 0,
  "metadata": {
    "colab": {
      "provenance": []
    },
    "kernelspec": {
      "name": "python3",
      "display_name": "Python 3"
    },
    "language_info": {
      "name": "python"
    }
  },
  "cells": [
    {
      "cell_type": "markdown",
      "source": [
        "Name: San Jose, Kier Justin F.\n",
        "\n",
        "Section and Course: CPE019-CPE32S4\n",
        "\n",
        "Instructor: Dr. Rich Monreal\n",
        "\n"
      ],
      "metadata": {
        "id": "L7itFrkNfHEk"
      }
    },
    {
      "cell_type": "code",
      "source": [
        "#QUIZ 5.1"
      ],
      "metadata": {
        "id": "6_EzCQhCb_6k"
      },
      "execution_count": null,
      "outputs": []
    },
    {
      "cell_type": "code",
      "execution_count": 2,
      "metadata": {
        "colab": {
          "base_uri": "https://localhost:8080/"
        },
        "id": "MBWSsapbbhIC",
        "outputId": "604fd41a-33e2-4d1a-b493-e42cb85f837e"
      },
      "outputs": [
        {
          "output_type": "stream",
          "name": "stdout",
          "text": [
            "Number of Rows: 10\n",
            "Number of Columns: 4\n"
          ]
        }
      ],
      "source": [
        "import pandas as pd\n",
        "import numpy as np\n",
        "exam_data  = {'name': ['Anastasia', 'Dima', 'Katherine', 'James', 'Emily', 'Michael', 'Matthew', 'Laura', 'Kevin', 'Jonas'],\n",
        "        'score': [12.5, 9, 16.5, np.nan, 9, 20, 14.5, np.nan, 8, 19],\n",
        "        'attempts': [1, 3, 2, 3, 2, 3, 1, 1, 2, 1],\n",
        "        'qualify': ['yes', 'no', 'yes', 'no', 'no', 'yes', 'yes', 'no', 'no', 'yes']}\n",
        "labels = ['a', 'b', 'c', 'd', 'e', 'f', 'g', 'h', 'i', 'j']\n",
        "df = pd.DataFrame(exam_data , index=labels)\n",
        "total_rows=len(df.axes[0])\n",
        "total_cols=len(df.axes[1])\n",
        "print(\"Number of Rows: \"+str(total_rows))\n",
        "print(\"Number of Columns: \"+str(total_cols))\n"
      ]
    },
    {
      "cell_type": "markdown",
      "source": [
        "Conclusion:\n",
        "\n",
        "In this Quiz, we applied what we learned in our past activities, by applying the exam data, I managed to create a data frame consists of their labels. I learned a lot just by doing the basics of pandas program code. Overall, this is a great quiz that enhances our programming skills."
      ],
      "metadata": {
        "id": "IAgW5aX1dUmj"
      }
    }
  ]
}